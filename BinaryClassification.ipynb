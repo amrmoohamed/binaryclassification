{
  "nbformat": 4,
  "nbformat_minor": 0,
  "metadata": {
    "colab": {
      "name": "Copy of Threshold Classification.ipynb",
      "provenance": [],
      "collapsed_sections": [],
      "machine_shape": "hm"
    },
    "kernelspec": {
      "name": "python3",
      "display_name": "Python 3"
    }
  },
  "cells": [
    {
      "cell_type": "code",
      "metadata": {
        "id": "QYgFC2cdpj1f",
        "colab_type": "code",
        "colab": {}
      },
      "source": [
        "import pandas as pd\n",
        "import numpy as np\n",
        "\n",
        "from sklearn.model_selection import train_test_split\n",
        "from sklearn.preprocessing import StandardScaler, Normalizer\n",
        "from sklearn.svm import SVC\n",
        "from sklearn.naive_bayes import MultinomialNB\n",
        "from sklearn.tree import DecisionTreeClassifier as dtc\n",
        "from sklearn.neighbors import KNeighborsClassifier\n",
        "from sklearn.ensemble import RandomForestClassifier\n",
        "from sklearn.metrics import accuracy_score, precision_score, recall_score, f1_score"
      ],
      "execution_count": 0,
      "outputs": []
    },
    {
      "cell_type": "code",
      "metadata": {
        "id": "4k4STtXnpmrQ",
        "colab_type": "code",
        "colab": {}
      },
      "source": [
        "columns = ['col1', 'col2', 'col3', 'y']\n",
        "df = pd.read_csv('/content/clf.csv', names=columns, header=None)"
      ],
      "execution_count": 0,
      "outputs": []
    },
    {
      "cell_type": "code",
      "metadata": {
        "id": "Vnu2C6rqpse6",
        "colab_type": "code",
        "outputId": "f9b53412-16b4-47b1-bc35-bed8b4d52d1e",
        "colab": {
          "base_uri": "https://localhost:8080/",
          "height": 191
        }
      },
      "source": [
        "display(df.head())"
      ],
      "execution_count": 3,
      "outputs": [
        {
          "output_type": "display_data",
          "data": {
            "text/html": [
              "<div>\n",
              "<style scoped>\n",
              "    .dataframe tbody tr th:only-of-type {\n",
              "        vertical-align: middle;\n",
              "    }\n",
              "\n",
              "    .dataframe tbody tr th {\n",
              "        vertical-align: top;\n",
              "    }\n",
              "\n",
              "    .dataframe thead th {\n",
              "        text-align: right;\n",
              "    }\n",
              "</style>\n",
              "<table border=\"1\" class=\"dataframe\">\n",
              "  <thead>\n",
              "    <tr style=\"text-align: right;\">\n",
              "      <th></th>\n",
              "      <th>col1</th>\n",
              "      <th>col2</th>\n",
              "      <th>col3</th>\n",
              "      <th>y</th>\n",
              "    </tr>\n",
              "  </thead>\n",
              "  <tbody>\n",
              "    <tr>\n",
              "      <th>0</th>\n",
              "      <td>383</td>\n",
              "      <td>985.81</td>\n",
              "      <td>12.330032</td>\n",
              "      <td>9.0133</td>\n",
              "    </tr>\n",
              "    <tr>\n",
              "      <th>1</th>\n",
              "      <td>295</td>\n",
              "      <td>-1.00</td>\n",
              "      <td>19534.002429</td>\n",
              "      <td>1000.0000</td>\n",
              "    </tr>\n",
              "    <tr>\n",
              "      <th>2</th>\n",
              "      <td>57</td>\n",
              "      <td>-1.00</td>\n",
              "      <td>17797.319934</td>\n",
              "      <td>1000.0000</td>\n",
              "    </tr>\n",
              "    <tr>\n",
              "      <th>3</th>\n",
              "      <td>459</td>\n",
              "      <td>999.68</td>\n",
              "      <td>215.991636</td>\n",
              "      <td>982.0800</td>\n",
              "    </tr>\n",
              "    <tr>\n",
              "      <th>4</th>\n",
              "      <td>1808</td>\n",
              "      <td>990.40</td>\n",
              "      <td>1345.756447</td>\n",
              "      <td>987.2000</td>\n",
              "    </tr>\n",
              "  </tbody>\n",
              "</table>\n",
              "</div>"
            ],
            "text/plain": [
              "   col1    col2          col3          y\n",
              "0   383  985.81     12.330032     9.0133\n",
              "1   295   -1.00  19534.002429  1000.0000\n",
              "2    57   -1.00  17797.319934  1000.0000\n",
              "3   459  999.68    215.991636   982.0800\n",
              "4  1808  990.40   1345.756447   987.2000"
            ]
          },
          "metadata": {
            "tags": []
          }
        }
      ]
    },
    {
      "cell_type": "code",
      "metadata": {
        "id": "FesqJT6spv9h",
        "colab_type": "code",
        "outputId": "d8d9a0d1-1af6-4275-8b8b-2dc08b1c2bd7",
        "colab": {
          "base_uri": "https://localhost:8080/",
          "height": 36
        }
      },
      "source": [
        "print(df.isnull().values.any())"
      ],
      "execution_count": 4,
      "outputs": [
        {
          "output_type": "stream",
          "text": [
            "False\n"
          ],
          "name": "stdout"
        }
      ]
    },
    {
      "cell_type": "code",
      "metadata": {
        "id": "a6k37Ik7pzMk",
        "colab_type": "code",
        "outputId": "a57de2bc-a45b-44db-9e7a-f236e272b3b4",
        "colab": {
          "base_uri": "https://localhost:8080/",
          "height": 298
        }
      },
      "source": [
        "df.y[df.y < 1000] = 0\n",
        "df.y[df.y >= 1000] = 1\n",
        "df.col2[df.col2 < 0] = 1000\n",
        "\n",
        "df.y=df.y.astype(int)\n"
      ],
      "execution_count": 5,
      "outputs": [
        {
          "output_type": "stream",
          "text": [
            "/usr/local/lib/python3.6/dist-packages/ipykernel_launcher.py:1: SettingWithCopyWarning: \n",
            "A value is trying to be set on a copy of a slice from a DataFrame\n",
            "\n",
            "See the caveats in the documentation: https://pandas.pydata.org/pandas-docs/stable/user_guide/indexing.html#returning-a-view-versus-a-copy\n",
            "  \"\"\"Entry point for launching an IPython kernel.\n",
            "/usr/local/lib/python3.6/dist-packages/ipykernel_launcher.py:2: SettingWithCopyWarning: \n",
            "A value is trying to be set on a copy of a slice from a DataFrame\n",
            "\n",
            "See the caveats in the documentation: https://pandas.pydata.org/pandas-docs/stable/user_guide/indexing.html#returning-a-view-versus-a-copy\n",
            "  \n",
            "/usr/local/lib/python3.6/dist-packages/ipykernel_launcher.py:3: SettingWithCopyWarning: \n",
            "A value is trying to be set on a copy of a slice from a DataFrame\n",
            "\n",
            "See the caveats in the documentation: https://pandas.pydata.org/pandas-docs/stable/user_guide/indexing.html#returning-a-view-versus-a-copy\n",
            "  This is separate from the ipykernel package so we can avoid doing imports until\n"
          ],
          "name": "stderr"
        }
      ]
    },
    {
      "cell_type": "code",
      "metadata": {
        "id": "nbEs6Yv8p9ri",
        "colab_type": "code",
        "outputId": "9fb2b8ff-8f21-40ea-b043-459ec0e23418",
        "colab": {
          "base_uri": "https://localhost:8080/",
          "height": 191
        }
      },
      "source": [
        "display(df.head())"
      ],
      "execution_count": 6,
      "outputs": [
        {
          "output_type": "display_data",
          "data": {
            "text/html": [
              "<div>\n",
              "<style scoped>\n",
              "    .dataframe tbody tr th:only-of-type {\n",
              "        vertical-align: middle;\n",
              "    }\n",
              "\n",
              "    .dataframe tbody tr th {\n",
              "        vertical-align: top;\n",
              "    }\n",
              "\n",
              "    .dataframe thead th {\n",
              "        text-align: right;\n",
              "    }\n",
              "</style>\n",
              "<table border=\"1\" class=\"dataframe\">\n",
              "  <thead>\n",
              "    <tr style=\"text-align: right;\">\n",
              "      <th></th>\n",
              "      <th>col1</th>\n",
              "      <th>col2</th>\n",
              "      <th>col3</th>\n",
              "      <th>y</th>\n",
              "    </tr>\n",
              "  </thead>\n",
              "  <tbody>\n",
              "    <tr>\n",
              "      <th>0</th>\n",
              "      <td>383</td>\n",
              "      <td>985.81</td>\n",
              "      <td>12.330032</td>\n",
              "      <td>0</td>\n",
              "    </tr>\n",
              "    <tr>\n",
              "      <th>1</th>\n",
              "      <td>295</td>\n",
              "      <td>1000.00</td>\n",
              "      <td>19534.002429</td>\n",
              "      <td>1</td>\n",
              "    </tr>\n",
              "    <tr>\n",
              "      <th>2</th>\n",
              "      <td>57</td>\n",
              "      <td>1000.00</td>\n",
              "      <td>17797.319934</td>\n",
              "      <td>1</td>\n",
              "    </tr>\n",
              "    <tr>\n",
              "      <th>3</th>\n",
              "      <td>459</td>\n",
              "      <td>999.68</td>\n",
              "      <td>215.991636</td>\n",
              "      <td>0</td>\n",
              "    </tr>\n",
              "    <tr>\n",
              "      <th>4</th>\n",
              "      <td>1808</td>\n",
              "      <td>990.40</td>\n",
              "      <td>1345.756447</td>\n",
              "      <td>0</td>\n",
              "    </tr>\n",
              "  </tbody>\n",
              "</table>\n",
              "</div>"
            ],
            "text/plain": [
              "   col1     col2          col3  y\n",
              "0   383   985.81     12.330032  0\n",
              "1   295  1000.00  19534.002429  1\n",
              "2    57  1000.00  17797.319934  1\n",
              "3   459   999.68    215.991636  0\n",
              "4  1808   990.40   1345.756447  0"
            ]
          },
          "metadata": {
            "tags": []
          }
        }
      ]
    },
    {
      "cell_type": "code",
      "metadata": {
        "id": "P7Y4xmmlCfKE",
        "colab_type": "code",
        "outputId": "2ad651d9-b3f8-425c-b058-1d0feaf5cb8e",
        "colab": {
          "base_uri": "https://localhost:8080/",
          "height": 73
        }
      },
      "source": [
        "df['y'].value_counts()"
      ],
      "execution_count": 7,
      "outputs": [
        {
          "output_type": "execute_result",
          "data": {
            "text/plain": [
              "1    44891\n",
              "0    32035\n",
              "Name: y, dtype: int64"
            ]
          },
          "metadata": {
            "tags": []
          },
          "execution_count": 7
        }
      ]
    },
    {
      "cell_type": "code",
      "metadata": {
        "id": "Cfd2DBnXwETd",
        "colab_type": "code",
        "outputId": "12111e82-4551-491b-9544-ec415f5aab8c",
        "colab": {
          "base_uri": "https://localhost:8080/",
          "height": 73
        }
      },
      "source": [
        "from sklearn.utils import resample\n",
        "\n",
        "# Separate majority and minority classes\n",
        "df_majority = df[df['y']==1]\n",
        "#df_majority = majority.iloc[:, :-1]\n",
        "df_minority = df[df['y']==0]\n",
        "#df_minority = minority.iloc[:, :-1]\n",
        "\n",
        "# Upsample minority class\n",
        "df_minority_upsampled = resample(df_minority, \n",
        "                                 replace=True,     # sample with replacement\n",
        "                                 n_samples=44891,    # to match majority class\n",
        "                                 random_state=123) # reproducible results\n",
        "\n",
        "# Combine majority class with upsampled minority class\n",
        "df_upsampled = pd.concat([df_majority, df_minority_upsampled])\n",
        "\n",
        "# Display new class counts\n",
        "df_upsampled['y'].value_counts()\n"
      ],
      "execution_count": 8,
      "outputs": [
        {
          "output_type": "execute_result",
          "data": {
            "text/plain": [
              "1    44891\n",
              "0    44891\n",
              "Name: y, dtype: int64"
            ]
          },
          "metadata": {
            "tags": []
          },
          "execution_count": 8
        }
      ]
    },
    {
      "cell_type": "code",
      "metadata": {
        "id": "Wgsm8oi08Gfw",
        "colab_type": "code",
        "outputId": "ce4203fd-f2f5-4512-c7b8-8a6d1a0e0786",
        "colab": {
          "base_uri": "https://localhost:8080/",
          "height": 391
        }
      },
      "source": [
        "df_upsampled"
      ],
      "execution_count": 9,
      "outputs": [
        {
          "output_type": "execute_result",
          "data": {
            "text/html": [
              "<div>\n",
              "<style scoped>\n",
              "    .dataframe tbody tr th:only-of-type {\n",
              "        vertical-align: middle;\n",
              "    }\n",
              "\n",
              "    .dataframe tbody tr th {\n",
              "        vertical-align: top;\n",
              "    }\n",
              "\n",
              "    .dataframe thead th {\n",
              "        text-align: right;\n",
              "    }\n",
              "</style>\n",
              "<table border=\"1\" class=\"dataframe\">\n",
              "  <thead>\n",
              "    <tr style=\"text-align: right;\">\n",
              "      <th></th>\n",
              "      <th>col1</th>\n",
              "      <th>col2</th>\n",
              "      <th>col3</th>\n",
              "      <th>y</th>\n",
              "    </tr>\n",
              "  </thead>\n",
              "  <tbody>\n",
              "    <tr>\n",
              "      <th>1</th>\n",
              "      <td>295</td>\n",
              "      <td>1000.00</td>\n",
              "      <td>19534.002429</td>\n",
              "      <td>1</td>\n",
              "    </tr>\n",
              "    <tr>\n",
              "      <th>2</th>\n",
              "      <td>57</td>\n",
              "      <td>1000.00</td>\n",
              "      <td>17797.319934</td>\n",
              "      <td>1</td>\n",
              "    </tr>\n",
              "    <tr>\n",
              "      <th>5</th>\n",
              "      <td>69</td>\n",
              "      <td>1000.00</td>\n",
              "      <td>2413.528564</td>\n",
              "      <td>1</td>\n",
              "    </tr>\n",
              "    <tr>\n",
              "      <th>6</th>\n",
              "      <td>100</td>\n",
              "      <td>1000.00</td>\n",
              "      <td>2168.891697</td>\n",
              "      <td>1</td>\n",
              "    </tr>\n",
              "    <tr>\n",
              "      <th>7</th>\n",
              "      <td>60</td>\n",
              "      <td>1000.00</td>\n",
              "      <td>11377.008751</td>\n",
              "      <td>1</td>\n",
              "    </tr>\n",
              "    <tr>\n",
              "      <th>...</th>\n",
              "      <td>...</td>\n",
              "      <td>...</td>\n",
              "      <td>...</td>\n",
              "      <td>...</td>\n",
              "    </tr>\n",
              "    <tr>\n",
              "      <th>65555</th>\n",
              "      <td>1716</td>\n",
              "      <td>1049.30</td>\n",
              "      <td>186.384274</td>\n",
              "      <td>0</td>\n",
              "    </tr>\n",
              "    <tr>\n",
              "      <th>52964</th>\n",
              "      <td>1038</td>\n",
              "      <td>1000.92</td>\n",
              "      <td>562.368867</td>\n",
              "      <td>0</td>\n",
              "    </tr>\n",
              "    <tr>\n",
              "      <th>12485</th>\n",
              "      <td>4499</td>\n",
              "      <td>1177.48</td>\n",
              "      <td>38.062725</td>\n",
              "      <td>0</td>\n",
              "    </tr>\n",
              "    <tr>\n",
              "      <th>48478</th>\n",
              "      <td>28458</td>\n",
              "      <td>1001.68</td>\n",
              "      <td>21330.405072</td>\n",
              "      <td>0</td>\n",
              "    </tr>\n",
              "    <tr>\n",
              "      <th>66197</th>\n",
              "      <td>237</td>\n",
              "      <td>997.90</td>\n",
              "      <td>163.114434</td>\n",
              "      <td>0</td>\n",
              "    </tr>\n",
              "  </tbody>\n",
              "</table>\n",
              "<p>89782 rows × 4 columns</p>\n",
              "</div>"
            ],
            "text/plain": [
              "        col1     col2          col3  y\n",
              "1        295  1000.00  19534.002429  1\n",
              "2         57  1000.00  17797.319934  1\n",
              "5         69  1000.00   2413.528564  1\n",
              "6        100  1000.00   2168.891697  1\n",
              "7         60  1000.00  11377.008751  1\n",
              "...      ...      ...           ... ..\n",
              "65555   1716  1049.30    186.384274  0\n",
              "52964   1038  1000.92    562.368867  0\n",
              "12485   4499  1177.48     38.062725  0\n",
              "48478  28458  1001.68  21330.405072  0\n",
              "66197    237   997.90    163.114434  0\n",
              "\n",
              "[89782 rows x 4 columns]"
            ]
          },
          "metadata": {
            "tags": []
          },
          "execution_count": 9
        }
      ]
    },
    {
      "cell_type": "code",
      "metadata": {
        "id": "bzZLzGVNJre2",
        "colab_type": "code",
        "colab": {}
      },
      "source": [
        "X= df.drop(['y'], axis=1)\n",
        "Y= df['y']\n",
        "X = np.array(X)\n",
        "Y = np.array(Y)"
      ],
      "execution_count": 0,
      "outputs": []
    },
    {
      "cell_type": "code",
      "metadata": {
        "id": "wTq_a7fAvVcf",
        "colab_type": "code",
        "colab": {}
      },
      "source": [
        "X_train, X_test, y_train, y_test = train_test_split(X, Y, test_size=0.2)\n"
      ],
      "execution_count": 0,
      "outputs": []
    },
    {
      "cell_type": "code",
      "metadata": {
        "id": "cAmJqfWLa7YI",
        "colab_type": "code",
        "colab": {}
      },
      "source": [
        "from sklearn.preprocessing import StandardScaler, Normalizer\n",
        "scaler1 = StandardScaler()\n",
        "\n",
        "scaler1.fit(X_train)\n",
        "X_train_standardized = scaler1.transform(X_train)\n",
        "X_test_standardized = scaler1.transform(X_test)\n",
        "\n",
        "scaler2 = Normalizer()\n",
        "\n",
        "scaler2.fit(X_train)\n",
        "X_train_normalized = scaler2.transform(X_train)\n",
        "X_test_normalized = scaler2.transform(X_test)"
      ],
      "execution_count": 0,
      "outputs": []
    },
    {
      "cell_type": "code",
      "metadata": {
        "id": "ljC3w_9IVD0E",
        "colab_type": "code",
        "outputId": "8ce92287-38ca-4a35-811c-115e2ef51339",
        "colab": {
          "base_uri": "https://localhost:8080/",
          "height": 262
        }
      },
      "source": [
        "pip install keras-metrics"
      ],
      "execution_count": 13,
      "outputs": [
        {
          "output_type": "stream",
          "text": [
            "Collecting keras-metrics\n",
            "  Downloading https://files.pythonhosted.org/packages/32/c9/a87420da8e73de944e63a8e9cdcfb1f03ca31a7c4cdcdbd45d2cdf13275a/keras_metrics-1.1.0-py2.py3-none-any.whl\n",
            "Requirement already satisfied: Keras>=2.1.5 in /usr/local/lib/python3.6/dist-packages (from keras-metrics) (2.3.1)\n",
            "Requirement already satisfied: six>=1.9.0 in /usr/local/lib/python3.6/dist-packages (from Keras>=2.1.5->keras-metrics) (1.12.0)\n",
            "Requirement already satisfied: numpy>=1.9.1 in /usr/local/lib/python3.6/dist-packages (from Keras>=2.1.5->keras-metrics) (1.18.4)\n",
            "Requirement already satisfied: keras-preprocessing>=1.0.5 in /usr/local/lib/python3.6/dist-packages (from Keras>=2.1.5->keras-metrics) (1.1.0)\n",
            "Requirement already satisfied: h5py in /usr/local/lib/python3.6/dist-packages (from Keras>=2.1.5->keras-metrics) (2.10.0)\n",
            "Requirement already satisfied: scipy>=0.14 in /usr/local/lib/python3.6/dist-packages (from Keras>=2.1.5->keras-metrics) (1.4.1)\n",
            "Requirement already satisfied: pyyaml in /usr/local/lib/python3.6/dist-packages (from Keras>=2.1.5->keras-metrics) (3.13)\n",
            "Requirement already satisfied: keras-applications>=1.0.6 in /usr/local/lib/python3.6/dist-packages (from Keras>=2.1.5->keras-metrics) (1.0.8)\n",
            "Installing collected packages: keras-metrics\n",
            "Successfully installed keras-metrics-1.1.0\n"
          ],
          "name": "stdout"
        }
      ]
    },
    {
      "cell_type": "code",
      "metadata": {
        "id": "nF98ayNEuDZU",
        "colab_type": "code",
        "colab": {}
      },
      "source": [
        "from keras import models\n",
        "from keras import layers\n",
        "import keras_metrics\n",
        "from keras import regularizers\n",
        "model = models.Sequential()\n",
        "model.add(layers.Dense(32, activation=None,input_shape=(3,)))\n",
        "model.add(layers.Dense(512, activation='relu'))\n",
        "model.add(layers.Dense(16, activation='relu'))\n",
        "model.add(layers.Dense(1, activation='sigmoid'))"
      ],
      "execution_count": 0,
      "outputs": []
    },
    {
      "cell_type": "code",
      "metadata": {
        "id": "zmev7SY-vsAB",
        "colab_type": "code",
        "outputId": "600510fc-0503-46cd-a902-aee52e035adb",
        "colab": {
          "base_uri": "https://localhost:8080/",
          "height": 467
        }
      },
      "source": [
        "model.compile(optimizer='sgd', loss='binary_crossentropy', metrics=['accuracy',keras_metrics.precision(), keras_metrics.recall()])\n",
        "history = model.fit(X_train_standardized, y_train, epochs=10,batch_size=32)"
      ],
      "execution_count": 22,
      "outputs": [
        {
          "output_type": "stream",
          "text": [
            "tracking <tf.Variable 'Variable:0' shape=() dtype=int32, numpy=0> tp\n",
            "tracking <tf.Variable 'Variable:0' shape=() dtype=int32, numpy=0> fp\n",
            "tracking <tf.Variable 'Variable:0' shape=() dtype=int32, numpy=0> tp\n",
            "tracking <tf.Variable 'Variable:0' shape=() dtype=int32, numpy=0> fn\n",
            "Epoch 1/10\n",
            "61540/61540 [==============================] - 3s 47us/step - loss: 0.5459 - accuracy: 0.7021 - precision: 0.6946 - recall: 0.7970\n",
            "Epoch 2/10\n",
            "61540/61540 [==============================] - 3s 45us/step - loss: 0.4868 - accuracy: 0.7383 - precision: 0.8698 - recall: 0.6418\n",
            "Epoch 3/10\n",
            "61540/61540 [==============================] - 3s 45us/step - loss: 0.4728 - accuracy: 0.7477 - precision: 0.9070 - recall: 0.6307\n",
            "Epoch 4/10\n",
            "61540/61540 [==============================] - 3s 45us/step - loss: 0.4656 - accuracy: 0.7509 - precision: 0.9160 - recall: 0.6313\n",
            "Epoch 5/10\n",
            "61540/61540 [==============================] - 3s 44us/step - loss: 0.4623 - accuracy: 0.7507 - precision: 0.9164 - recall: 0.6314\n",
            "Epoch 6/10\n",
            "61540/61540 [==============================] - 3s 44us/step - loss: 0.4600 - accuracy: 0.7514 - precision: 0.9159 - recall: 0.6283\n",
            "Epoch 7/10\n",
            "61540/61540 [==============================] - 3s 44us/step - loss: 0.4586 - accuracy: 0.7516 - precision: 0.9149 - recall: 0.6330\n",
            "Epoch 8/10\n",
            "61540/61540 [==============================] - 3s 44us/step - loss: 0.4569 - accuracy: 0.7515 - precision: 0.9165 - recall: 0.6337\n",
            "Epoch 9/10\n",
            "61540/61540 [==============================] - 3s 45us/step - loss: 0.4565 - accuracy: 0.7522 - precision: 0.9196 - recall: 0.6305\n",
            "Epoch 10/10\n",
            "61540/61540 [==============================] - 3s 45us/step - loss: 0.4555 - accuracy: 0.7523 - precision: 0.9125 - recall: 0.6251\n"
          ],
          "name": "stdout"
        }
      ]
    },
    {
      "cell_type": "code",
      "metadata": {
        "id": "3M01a7OUVKWq",
        "colab_type": "code",
        "colab": {
          "base_uri": "https://localhost:8080/",
          "height": 186
        },
        "outputId": "20e9c747-291f-495d-8485-c53d4d2a160d"
      },
      "source": [
        "import sklearn\n",
        "y_pred = model.predict(X_test_standardized)\n",
        "print(sklearn.metrics.classification_report(y_test, y_pred.round()))"
      ],
      "execution_count": 23,
      "outputs": [
        {
          "output_type": "stream",
          "text": [
            "              precision    recall  f1-score   support\n",
            "\n",
            "           0       0.65      0.93      0.76      6445\n",
            "           1       0.92      0.64      0.75      8941\n",
            "\n",
            "    accuracy                           0.76     15386\n",
            "   macro avg       0.79      0.78      0.76     15386\n",
            "weighted avg       0.81      0.76      0.76     15386\n",
            "\n"
          ],
          "name": "stdout"
        }
      ]
    },
    {
      "cell_type": "code",
      "metadata": {
        "id": "DZThvzDkaXoU",
        "colab_type": "code",
        "colab": {
          "base_uri": "https://localhost:8080/",
          "height": 111
        },
        "outputId": "f6ff3558-fecd-49df-be14-8026756fdc31"
      },
      "source": [
        "TP = FP = TN = FN = 0\n",
        "for pred, y in zip(y_pred, y_test):\n",
        "    if y == 1:\n",
        "        if pred == 1:\n",
        "            TP = TP + 1\n",
        "        else:\n",
        "            FN = FN + 1\n",
        "    else:\n",
        "        if pred == 0:\n",
        "            TN = TN + 1\n",
        "        else:\n",
        "            FP = FP + 1\n",
        "print(f'True Positives = {TP}')\n",
        "print(f'False Positives = {FP}')\n",
        "print(f'True Negatives = {TN}')\n",
        "print(f'False Negatives = {FN}')\n",
        "print(f'Total = {len(y_test)}')\n"
      ],
      "execution_count": 24,
      "outputs": [
        {
          "output_type": "stream",
          "text": [
            "True Positives = 2706\n",
            "False Positives = 6445\n",
            "True Negatives = 0\n",
            "False Negatives = 6235\n",
            "Total = 15386\n"
          ],
          "name": "stdout"
        }
      ]
    },
    {
      "cell_type": "code",
      "metadata": {
        "id": "zIEcmmQtcrPa",
        "colab_type": "code",
        "colab": {
          "base_uri": "https://localhost:8080/",
          "height": 55
        },
        "outputId": "c0c998d4-ace9-44e9-c913-2e9550fa5e35"
      },
      "source": [
        "from sklearn.metrics import confusion_matrix\n",
        "sklearn.metrics.confusion_matrix(y_test, y_pred.round())"
      ],
      "execution_count": 31,
      "outputs": [
        {
          "output_type": "execute_result",
          "data": {
            "text/plain": [
              "array([[5976,  469],\n",
              "       [3245, 5696]])"
            ]
          },
          "metadata": {
            "tags": []
          },
          "execution_count": 31
        }
      ]
    },
    {
      "cell_type": "code",
      "metadata": {
        "id": "KFf061glexbE",
        "colab_type": "code",
        "colab": {
          "base_uri": "https://localhost:8080/",
          "height": 442
        },
        "outputId": "6498d9a4-f887-4213-9113-b361eb6445cd"
      },
      "source": [
        "from sklearn.metrics import plot_confusion_matrix\n",
        "import matplotlib.pyplot as plt\n",
        "import seaborn  as  sns\n",
        "\n",
        "# Plot non-normalized confusion matrix\n",
        "CM = confusion_matrix(y_test, y_pred.round())\n",
        "\n",
        "plt.figure(figsize=(10,7))\n",
        "sns.heatmap(CM,annot=True,linewidths=1, fmt = 'd')\n",
        "plt.xlabel('predicted')\n",
        "plt.ylabel('Truth')\n",
        "plt.show()"
      ],
      "execution_count": 38,
      "outputs": [
        {
          "output_type": "display_data",
          "data": {
            "image/png": "[encoded data removed]",
            "text/plain": [
              "<Figure size 720x504 with 2 Axes>"
            ]
          },
          "metadata": {
            "tags": [],
            "needs_background": "light"
          }
        }
      ]
    },
    {
      "cell_type": "code",
      "metadata": {
        "id": "MPd_SsJzFqc_",
        "colab_type": "code",
        "outputId": "c6f6efa1-5a6a-4e7f-988d-5a065d73737a",
        "colab": {
          "base_uri": "https://localhost:8080/",
          "height": 76
        }
      },
      "source": [
        "svc = SVC()\n",
        "knc = KNeighborsClassifier()\n",
        "rfc = RandomForestClassifier()\n",
        "\n",
        "\n",
        "clfs = {'SVC' : svc}\n",
        "\n",
        "def train_classifier(clf, X_train_standardized, y_train):    \n",
        "    clf.fit(X_train_standardized, y_train)\n",
        "def predict_labels(clf, X_test_standardized):\n",
        "    return (clf.predict(X_test_standardized))\n",
        "    \n",
        "\n",
        "pred_scores = []\n",
        "for k,v in clfs.items():\n",
        "    train_classifier(v, X_train_standardized, y_train)\n",
        "    pred = predict_labels(v, X_test_standardized)\n",
        "    pred_scores.append((k, accuracy_score(y_test,pred), precision_score(y_test,pred), recall_score(y_test,pred), f1_score(y_test,pred)))\n",
        "scores_tfidf = pd.DataFrame(pred_scores, columns=['Model', 'Accuracy Score', 'Precision Score', 'Recall Score', 'F1 Score'])\n",
        "scores_tfidf"
      ],
      "execution_count": 32,
      "outputs": [
        {
          "output_type": "execute_result",
          "data": {
            "text/html": [
              "<div>\n",
              "<style scoped>\n",
              "    .dataframe tbody tr th:only-of-type {\n",
              "        vertical-align: middle;\n",
              "    }\n",
              "\n",
              "    .dataframe tbody tr th {\n",
              "        vertical-align: top;\n",
              "    }\n",
              "\n",
              "    .dataframe thead th {\n",
              "        text-align: right;\n",
              "    }\n",
              "</style>\n",
              "<table border=\"1\" class=\"dataframe\">\n",
              "  <thead>\n",
              "    <tr style=\"text-align: right;\">\n",
              "      <th></th>\n",
              "      <th>Model</th>\n",
              "      <th>Accuracy Score</th>\n",
              "      <th>Precision Score</th>\n",
              "      <th>Recall Score</th>\n",
              "      <th>F1 Score</th>\n",
              "    </tr>\n",
              "  </thead>\n",
              "  <tbody>\n",
              "    <tr>\n",
              "      <th>0</th>\n",
              "      <td>SVC</td>\n",
              "      <td>0.737944</td>\n",
              "      <td>0.909015</td>\n",
              "      <td>0.610111</td>\n",
              "      <td>0.730157</td>\n",
              "    </tr>\n",
              "  </tbody>\n",
              "</table>\n",
              "</div>"
            ],
            "text/plain": [
              "  Model  Accuracy Score  Precision Score  Recall Score  F1 Score\n",
              "0   SVC        0.737944         0.909015      0.610111  0.730157"
            ]
          },
          "metadata": {
            "tags": []
          },
          "execution_count": 32
        }
      ]
    },
    {
      "cell_type": "code",
      "metadata": {
        "id": "tKs6ryMpIG-t",
        "colab_type": "code",
        "colab": {
          "base_uri": "https://localhost:8080/",
          "height": 186
        },
        "outputId": "bbd670ea-4f40-45af-a850-3cec7e1c7187"
      },
      "source": [
        "print(sklearn.metrics.classification_report(y_test, pred))"
      ],
      "execution_count": 33,
      "outputs": [
        {
          "output_type": "stream",
          "text": [
            "              precision    recall  f1-score   support\n",
            "\n",
            "           0       0.63      0.92      0.75      6445\n",
            "           1       0.91      0.61      0.73      8941\n",
            "\n",
            "    accuracy                           0.74     15386\n",
            "   macro avg       0.77      0.76      0.74     15386\n",
            "weighted avg       0.79      0.74      0.74     15386\n",
            "\n"
          ],
          "name": "stdout"
        }
      ]
    },
    {
      "cell_type": "code",
      "metadata": {
        "id": "v5-L9OMwcAK5",
        "colab_type": "code",
        "colab": {
          "base_uri": "https://localhost:8080/",
          "height": 111
        },
        "outputId": "2045b6bb-3f17-4c01-e7c5-9d9ff2e5c4f7"
      },
      "source": [
        "TP = FP = TN = FN = 0\n",
        "for pred, y in zip(pred, y_test):\n",
        "    if y == 1:\n",
        "        if pred == 1:\n",
        "            TP = TP + 1\n",
        "        else:\n",
        "            FN = FN + 1\n",
        "    else:\n",
        "        if pred == 0:\n",
        "            TN = TN + 1\n",
        "        else:\n",
        "            FP = FP + 1\n",
        "print(f'True Positives = {TP}')\n",
        "print(f'False Positives = {FP}')\n",
        "print(f'True Negatives = {TN}')\n",
        "print(f'False Negatives = {FN}')\n",
        "print(f'Total = {len(y_test)}')"
      ],
      "execution_count": 34,
      "outputs": [
        {
          "output_type": "stream",
          "text": [
            "True Positives = 5455\n",
            "False Positives = 546\n",
            "True Negatives = 5899\n",
            "False Negatives = 3486\n",
            "Total = 15386\n"
          ],
          "name": "stdout"
        }
      ]
    }
  ]
}